{
 "cells": [
  {
   "cell_type": "markdown",
   "metadata": {},
   "source": [
    "<font color='salmon' size=\"4\">Predicting churn with ski-learn</font> \n",
    "\n",
    "origin :http://blog.yhat.com/posts/predicting-customer-churn-with-sklearn.html"
   ]
  },
  {
   "cell_type": "code",
   "execution_count": 184,
   "metadata": {
    "collapsed": false
   },
   "outputs": [],
   "source": [
    "import pandas as pd\n",
    "import numpy as np\n",
    "from sklearn.preprocessing import StandardScaler\n",
    "from sklearn.cross_validation import KFold\n",
    "from sklearn.svm import SVC\n",
    "from sklearn.ensemble import RandomForestClassifier as RF\n",
    "from sklearn.neighbors import KNeighborsClassifier as KNN\n",
    "from sklearn.metrics import confusion_matrix\n",
    "from sklearn.svm import SVC\n",
    "from sklearn.ensemble import RandomForestClassifier as RF\n",
    "from sklearn.neighbors import KNeighborsClassifier as KNN\n",
    "from sklearn.cross_validation import train_test_split\n",
    "from sklearn.pipeline import Pipeline,make_pipeline\n",
    "from sklearn.grid_search import GridSearchCV\n",
    "from sklearn.metrics import classification_report\n",
    "\n",
    "import matplotlib.pyplot as plt\n",
    "import seaborn as sns\n",
    "\n",
    "%matplotlib inline\n",
    "plt.rcParams['figure.figsize'] = 12, 50\n",
    "sns.set_style(\"dark\")\n",
    "sns.set_palette(\"Blues_d\")\n"
   ]
  },
  {
   "cell_type": "code",
   "execution_count": 89,
   "metadata": {
    "collapsed": false
   },
   "outputs": [],
   "source": [
    "data=pd.read_csv(\"churn.csv\")"
   ]
  },
  {
   "cell_type": "code",
   "execution_count": 431,
   "metadata": {
    "collapsed": false
   },
   "outputs": [],
   "source": [
    "def create_confusion(list_estimator,y,x,figsize=(15,6)):\n",
    "    \n",
    "    f=plt.figure(figsize=figsize)\n",
    "    \n",
    "    for i,e in enumerate(list_estimator):\n",
    "        \n",
    "        ax=f.add_subplot(1,len(list_estimator),i+1)\n",
    "        \n",
    "        ax.set_title(e.steps[0][0])\n",
    "        \n",
    "        sns.heatmap(confusion_matrix(y,e.predict(x)),annot=True,fmt=\"d\", cmap=\"Reds\",ax=ax)\n",
    "        \n",
    "    print(\"x= Predicted and y=True class\")\n",
    "        \n"
   ]
  },
  {
   "cell_type": "markdown",
   "metadata": {},
   "source": [
    "#### Data Transformation"
   ]
  },
  {
   "cell_type": "code",
   "execution_count": 90,
   "metadata": {
    "collapsed": false
   },
   "outputs": [],
   "source": [
    "# some columns are not interesting=> Phone is too fuzzy, State contains too many values to be changed in \n",
    "\n",
    "data=data.drop(['State','Area Code','Phone'],axis=1)\n",
    "\n",
    "# columns have to be changed in binary\n",
    "def col_to_bin (x,values):\n",
    "    \n",
    "    if x==values:\n",
    "        return 1\n",
    "    else:\n",
    "        return 0\n",
    "    \n",
    "data[\"VMail Plan\"]=data[\"VMail Plan\"].apply(lambda x:col_to_bin(x,\"yes\"))\n",
    "data[\"Int'l Plan\"]=data[\"Int'l Plan\"].apply(lambda x:col_to_bin(x,\"yes\"))\n",
    "data[\"Churn?\"]=data[\"Churn?\"].apply(lambda x:col_to_bin(x,\"True.\"))\n",
    "\n",
    "# Create x and y dataset\n",
    "\n",
    "y=data[\"Churn?\"]\n",
    "x=data.drop(\"Churn?\",axis=1)\n",
    "\n",
    "# Normalization of the features\n",
    "\n",
    "scaler = StandardScaler()\n",
    "x=scaler.fit_transform(x)"
   ]
  },
  {
   "cell_type": "markdown",
   "metadata": {},
   "source": [
    "#### Model Selection"
   ]
  },
  {
   "cell_type": "code",
   "execution_count": 432,
   "metadata": {
    "collapsed": false
   },
   "outputs": [
    {
     "name": "stderr",
     "output_type": "stream",
     "text": [
      "[Parallel(n_jobs=-1)]: Done   2 tasks      | elapsed:    1.1s\n",
      "[Parallel(n_jobs=-1)]: Done  45 out of  45 | elapsed:    3.2s finished\n"
     ]
    },
    {
     "name": "stdout",
     "output_type": "stream",
     "text": [
      "----------------------------------------------------------\n",
      "Test of the algo : RandomForestClassifier \n",
      "\n",
      "Fitting 5 folds for each of 9 candidates, totalling 45 fits\n",
      "\n",
      "Best F1 score: 0.779 \n",
      "\n",
      "randomforestclassifier__max_depth: 155\n",
      "randomforestclassifier__min_samples_split: 3\n",
      "----------------------------------------------------------\n",
      "Test of the algo : KNeighborsClassifier \n",
      "\n",
      "Fitting 5 folds for each of 1 candidates, totalling 5 fits\n",
      "\n",
      "Best F1 score: 0.478 \n",
      "\n",
      "x= Predicted and y=True class\n"
     ]
    },
    {
     "name": "stderr",
     "output_type": "stream",
     "text": [
      "[Parallel(n_jobs=-1)]: Done   5 out of   5 | elapsed:    1.6s finished\n"
     ]
    },
    {
     "data": {
      "image/png": "[encoded data removed]",
      "text/plain": [
       "<matplotlib.figure.Figure at 0x1377c4b0>"
      ]
     },
     "metadata": {},
     "output_type": "display_data"
    }
   ],
   "source": [
    "x_train, x_test, y_train, y_test = train_test_split(x, y)\n",
    "\n",
    "list_result={}\n",
    "\n",
    "parameters_dt = {'randomforestclassifier__max_depth': (150, 155, 160),\n",
    "'randomforestclassifier__min_samples_split': (1, 2, 3)}\n",
    "\n",
    "parameters_knn = {}\n",
    "\n",
    "Models = {RF(criterion='entropy'):parameters_dt,KNN():parameters_knn}\n",
    "\n",
    "for m,p in Models.items():\n",
    "    \n",
    "    print(\"----------------------------------------------------------\")\n",
    "    \n",
    "    print(\"Test of the algo : %s \\n\" % str(m)[:str(m).find(\"(\")])\n",
    "    \n",
    "    pipeline=make_pipeline(m)\n",
    "    \n",
    "    grid_search = GridSearchCV(pipeline, p,cv=5, n_jobs=-1,verbose=5, scoring='f1')\n",
    "    \n",
    "    grid_search.fit(x_train,y_train)\n",
    "    \n",
    "    print ('\\nBest F1 score: %0.3f \\n' % grid_search.best_score_)\n",
    "    \n",
    "    best_parameters = grid_search.best_estimator_.get_params()\n",
    "    \n",
    "    for param_name in sorted(p.keys()):\n",
    "        \n",
    "        print ('%s: %s' % (param_name,best_parameters[param_name]))\n",
    "        \n",
    "    list_result[grid_search.best_estimator_]=grid_search.best_score_\n",
    "    \n",
    "    \n",
    "create_confusion(list_result,x=x_test,y=y_test)"
   ]
  },
  {
   "cell_type": "code",
   "execution_count": 416,
   "metadata": {
    "collapsed": false
   },
   "outputs": [
    {
     "name": "stdout",
     "output_type": "stream",
     "text": [
      "             precision    recall  f1-score   support\n",
      "\n",
      "          0       0.93      0.99      0.96       708\n",
      "          1       0.93      0.60      0.73       126\n",
      "\n",
      "avg / total       0.93      0.93      0.93       834\n",
      "\n"
     ]
    }
   ],
   "source": [
    "best_estimator=max(list_result.keys(), key=(lambda k: list_result[k]))\n",
    "\n",
    "predictions = best_estimator.predict(x_test)\n",
    "print (classification_report(y_test, predictions))\n"
   ]
  }
 ],
 "metadata": {
  "kernelspec": {
   "display_name": "Python 3",
   "language": "python",
   "name": "python3"
  },
  "language_info": {
   "codemirror_mode": {
    "name": "ipython",
    "version": 3
   },
   "file_extension": ".py",
   "mimetype": "text/x-python",
   "name": "python",
   "nbconvert_exporter": "python",
   "pygments_lexer": "ipython3",
   "version": "3.4.1"
  }
 },
 "nbformat": 4,
 "nbformat_minor": 0
}
